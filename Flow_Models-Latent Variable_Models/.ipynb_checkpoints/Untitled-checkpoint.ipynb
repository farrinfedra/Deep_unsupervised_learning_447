{
 "cells": [
  {
   "cell_type": "code",
   "execution_count": 1,
   "id": "7381363f-e86f-4e30-b5c0-0954286c52f5",
   "metadata": {},
   "outputs": [],
   "source": [
    "base = (128, 4, 4)\n"
   ]
  },
  {
   "cell_type": "code",
   "execution_count": 2,
   "id": "d8f44ed4-5e08-46fa-8d80-9152275e01c4",
   "metadata": {},
   "outputs": [
    {
     "ename": "SyntaxError",
     "evalue": "can't use starred expression here (702202203.py, line 1)",
     "output_type": "error",
     "traceback": [
      "\u001b[0;36m  File \u001b[0;32m\"/tmp/ipykernel_118454/702202203.py\"\u001b[0;36m, line \u001b[0;32m1\u001b[0m\n\u001b[0;31m    *base\u001b[0m\n\u001b[0m    ^\u001b[0m\n\u001b[0;31mSyntaxError\u001b[0m\u001b[0;31m:\u001b[0m can't use starred expression here\n"
     ]
    }
   ],
   "source": [
    "*base"
   ]
  },
  {
   "cell_type": "code",
   "execution_count": 3,
   "id": "23374475-8f4f-4ae9-bf5f-1810ceb686b1",
   "metadata": {},
   "outputs": [],
   "source": [
    "x = 32\n",
    "x /= 4.0"
   ]
  },
  {
   "cell_type": "code",
   "execution_count": 4,
   "id": "838f2334-7277-4de5-9de9-2744ae617852",
   "metadata": {},
   "outputs": [
    {
     "data": {
      "text/plain": [
       "8.0"
      ]
     },
     "execution_count": 4,
     "metadata": {},
     "output_type": "execute_result"
    }
   ],
   "source": [
    "x"
   ]
  },
  {
   "cell_type": "code",
   "execution_count": 6,
   "id": "fdc65ac2-1292-422d-a394-f16a192e4431",
   "metadata": {},
   "outputs": [],
   "source": [
    "import torch"
   ]
  },
  {
   "cell_type": "code",
   "execution_count": 7,
   "id": "07ccc65b-8212-4a97-88f0-0ef8d76867a2",
   "metadata": {},
   "outputs": [],
   "source": [
    "z = torch.randn((3,3))"
   ]
  },
  {
   "cell_type": "code",
   "execution_count": 8,
   "id": "e321b077-661e-4063-b46a-f4000e500eb0",
   "metadata": {},
   "outputs": [
    {
     "data": {
      "text/plain": [
       "tensor([[-0.5242,  0.8648,  0.8182],\n",
       "        [ 0.6415, -0.6459, -0.7298],\n",
       "        [ 1.0955, -0.5194,  0.3298]])"
      ]
     },
     "execution_count": 8,
     "metadata": {},
     "output_type": "execute_result"
    }
   ],
   "source": [
    "z"
   ]
  },
  {
   "cell_type": "code",
   "execution_count": null,
   "id": "c50d1801-cb7c-407b-a354-92879b1b4731",
   "metadata": {},
   "outputs": [],
   "source": []
  }
 ],
 "metadata": {
  "kernelspec": {
   "display_name": "Python 3 (ipykernel)",
   "language": "python",
   "name": "python3"
  },
  "language_info": {
   "codemirror_mode": {
    "name": "ipython",
    "version": 3
   },
   "file_extension": ".py",
   "mimetype": "text/x-python",
   "name": "python",
   "nbconvert_exporter": "python",
   "pygments_lexer": "ipython3",
   "version": "3.9.0"
  }
 },
 "nbformat": 4,
 "nbformat_minor": 5
}
